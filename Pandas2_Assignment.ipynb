{
 "cells": [
  {
   "cell_type": "code",
   "execution_count": null,
   "id": "cac59a34-6c91-4199-8f24-09638e3c1456",
   "metadata": {},
   "outputs": [],
   "source": [
    "# Q1.\n",
    "1. pd.read_csv\n",
    "2. df.head()\n",
    "3. df.tail()\n",
    "4. df.describe\n",
    "5. df.dtypes"
   ]
  },
  {
   "cell_type": "code",
   "execution_count": 1,
   "id": "e9e4dac9-e0ff-4227-bf04-a3d32c5f96a3",
   "metadata": {},
   "outputs": [],
   "source": [
    "import pandas as pd"
   ]
  },
  {
   "cell_type": "code",
   "execution_count": 3,
   "id": "b6de8101-e1d9-4879-9cad-dacf21fa28c6",
   "metadata": {},
   "outputs": [],
   "source": [
    "df = pd.read_csv(\"class-grades.csv\")"
   ]
  },
  {
   "cell_type": "code",
   "execution_count": 4,
   "id": "666b55b1-0515-4c76-a6cd-17bf313334b7",
   "metadata": {},
   "outputs": [
    {
     "data": {
      "text/html": [
       "<div>\n",
       "<style scoped>\n",
       "    .dataframe tbody tr th:only-of-type {\n",
       "        vertical-align: middle;\n",
       "    }\n",
       "\n",
       "    .dataframe tbody tr th {\n",
       "        vertical-align: top;\n",
       "    }\n",
       "\n",
       "    .dataframe thead th {\n",
       "        text-align: right;\n",
       "    }\n",
       "</style>\n",
       "<table border=\"1\" class=\"dataframe\">\n",
       "  <thead>\n",
       "    <tr style=\"text-align: right;\">\n",
       "      <th></th>\n",
       "      <th>Prefix</th>\n",
       "      <th>Assignment</th>\n",
       "      <th>Tutorial</th>\n",
       "      <th>Midterm</th>\n",
       "      <th>TakeHome</th>\n",
       "      <th>Final</th>\n",
       "    </tr>\n",
       "  </thead>\n",
       "  <tbody>\n",
       "    <tr>\n",
       "      <th>0</th>\n",
       "      <td>5</td>\n",
       "      <td>57.14</td>\n",
       "      <td>34.09</td>\n",
       "      <td>64.38</td>\n",
       "      <td>51.48</td>\n",
       "      <td>52.50</td>\n",
       "    </tr>\n",
       "    <tr>\n",
       "      <th>1</th>\n",
       "      <td>8</td>\n",
       "      <td>95.05</td>\n",
       "      <td>105.49</td>\n",
       "      <td>67.50</td>\n",
       "      <td>99.07</td>\n",
       "      <td>68.33</td>\n",
       "    </tr>\n",
       "    <tr>\n",
       "      <th>2</th>\n",
       "      <td>8</td>\n",
       "      <td>83.70</td>\n",
       "      <td>83.17</td>\n",
       "      <td>30.00</td>\n",
       "      <td>63.15</td>\n",
       "      <td>48.89</td>\n",
       "    </tr>\n",
       "    <tr>\n",
       "      <th>3</th>\n",
       "      <td>7</td>\n",
       "      <td>81.22</td>\n",
       "      <td>96.06</td>\n",
       "      <td>49.38</td>\n",
       "      <td>105.93</td>\n",
       "      <td>80.56</td>\n",
       "    </tr>\n",
       "    <tr>\n",
       "      <th>4</th>\n",
       "      <td>8</td>\n",
       "      <td>91.32</td>\n",
       "      <td>93.64</td>\n",
       "      <td>95.00</td>\n",
       "      <td>107.41</td>\n",
       "      <td>73.89</td>\n",
       "    </tr>\n",
       "  </tbody>\n",
       "</table>\n",
       "</div>"
      ],
      "text/plain": [
       "   Prefix  Assignment  Tutorial  Midterm  TakeHome  Final\n",
       "0       5       57.14     34.09    64.38     51.48  52.50\n",
       "1       8       95.05    105.49    67.50     99.07  68.33\n",
       "2       8       83.70     83.17    30.00     63.15  48.89\n",
       "3       7       81.22     96.06    49.38    105.93  80.56\n",
       "4       8       91.32     93.64    95.00    107.41  73.89"
      ]
     },
     "execution_count": 4,
     "metadata": {},
     "output_type": "execute_result"
    }
   ],
   "source": [
    "df.head()"
   ]
  },
  {
   "cell_type": "code",
   "execution_count": 5,
   "id": "c64fadee-46cb-4d67-9a33-158ac2418f8a",
   "metadata": {},
   "outputs": [
    {
     "data": {
      "text/html": [
       "<div>\n",
       "<style scoped>\n",
       "    .dataframe tbody tr th:only-of-type {\n",
       "        vertical-align: middle;\n",
       "    }\n",
       "\n",
       "    .dataframe tbody tr th {\n",
       "        vertical-align: top;\n",
       "    }\n",
       "\n",
       "    .dataframe thead th {\n",
       "        text-align: right;\n",
       "    }\n",
       "</style>\n",
       "<table border=\"1\" class=\"dataframe\">\n",
       "  <thead>\n",
       "    <tr style=\"text-align: right;\">\n",
       "      <th></th>\n",
       "      <th>Prefix</th>\n",
       "      <th>Assignment</th>\n",
       "      <th>Tutorial</th>\n",
       "      <th>Midterm</th>\n",
       "      <th>TakeHome</th>\n",
       "      <th>Final</th>\n",
       "    </tr>\n",
       "  </thead>\n",
       "  <tbody>\n",
       "    <tr>\n",
       "      <th>94</th>\n",
       "      <td>8</td>\n",
       "      <td>96.73</td>\n",
       "      <td>103.71</td>\n",
       "      <td>45.00</td>\n",
       "      <td>93.52</td>\n",
       "      <td>61.94</td>\n",
       "    </tr>\n",
       "    <tr>\n",
       "      <th>95</th>\n",
       "      <td>7</td>\n",
       "      <td>85.34</td>\n",
       "      <td>80.54</td>\n",
       "      <td>41.25</td>\n",
       "      <td>93.70</td>\n",
       "      <td>39.72</td>\n",
       "    </tr>\n",
       "    <tr>\n",
       "      <th>96</th>\n",
       "      <td>8</td>\n",
       "      <td>89.94</td>\n",
       "      <td>102.77</td>\n",
       "      <td>87.50</td>\n",
       "      <td>90.74</td>\n",
       "      <td>87.78</td>\n",
       "    </tr>\n",
       "    <tr>\n",
       "      <th>97</th>\n",
       "      <td>7</td>\n",
       "      <td>95.60</td>\n",
       "      <td>76.13</td>\n",
       "      <td>66.25</td>\n",
       "      <td>99.81</td>\n",
       "      <td>85.56</td>\n",
       "    </tr>\n",
       "    <tr>\n",
       "      <th>98</th>\n",
       "      <td>8</td>\n",
       "      <td>63.40</td>\n",
       "      <td>97.37</td>\n",
       "      <td>73.12</td>\n",
       "      <td>72.78</td>\n",
       "      <td>77.22</td>\n",
       "    </tr>\n",
       "  </tbody>\n",
       "</table>\n",
       "</div>"
      ],
      "text/plain": [
       "    Prefix  Assignment  Tutorial  Midterm  TakeHome  Final\n",
       "94       8       96.73    103.71    45.00     93.52  61.94\n",
       "95       7       85.34     80.54    41.25     93.70  39.72\n",
       "96       8       89.94    102.77    87.50     90.74  87.78\n",
       "97       7       95.60     76.13    66.25     99.81  85.56\n",
       "98       8       63.40     97.37    73.12     72.78  77.22"
      ]
     },
     "execution_count": 5,
     "metadata": {},
     "output_type": "execute_result"
    }
   ],
   "source": [
    "df.tail()"
   ]
  },
  {
   "cell_type": "code",
   "execution_count": 6,
   "id": "45f5f049-50ff-461e-ac85-4474254c5d67",
   "metadata": {},
   "outputs": [
    {
     "data": {
      "text/plain": [
       "Prefix          int64\n",
       "Assignment    float64\n",
       "Tutorial      float64\n",
       "Midterm       float64\n",
       "TakeHome      float64\n",
       "Final         float64\n",
       "dtype: object"
      ]
     },
     "execution_count": 6,
     "metadata": {},
     "output_type": "execute_result"
    }
   ],
   "source": [
    "df.dtypes"
   ]
  },
  {
   "cell_type": "code",
   "execution_count": 8,
   "id": "bf1ef81f-3885-4011-ab19-024afba98664",
   "metadata": {},
   "outputs": [
    {
     "data": {
      "text/html": [
       "<div>\n",
       "<style scoped>\n",
       "    .dataframe tbody tr th:only-of-type {\n",
       "        vertical-align: middle;\n",
       "    }\n",
       "\n",
       "    .dataframe tbody tr th {\n",
       "        vertical-align: top;\n",
       "    }\n",
       "\n",
       "    .dataframe thead th {\n",
       "        text-align: right;\n",
       "    }\n",
       "</style>\n",
       "<table border=\"1\" class=\"dataframe\">\n",
       "  <thead>\n",
       "    <tr style=\"text-align: right;\">\n",
       "      <th></th>\n",
       "      <th>Prefix</th>\n",
       "      <th>Assignment</th>\n",
       "      <th>Tutorial</th>\n",
       "      <th>Midterm</th>\n",
       "      <th>TakeHome</th>\n",
       "      <th>Final</th>\n",
       "    </tr>\n",
       "  </thead>\n",
       "  <tbody>\n",
       "    <tr>\n",
       "      <th>count</th>\n",
       "      <td>99.000000</td>\n",
       "      <td>97.000000</td>\n",
       "      <td>87.000000</td>\n",
       "      <td>83.000000</td>\n",
       "      <td>90.000000</td>\n",
       "      <td>94.000000</td>\n",
       "    </tr>\n",
       "    <tr>\n",
       "      <th>mean</th>\n",
       "      <td>7.313131</td>\n",
       "      <td>85.382371</td>\n",
       "      <td>90.790460</td>\n",
       "      <td>67.620723</td>\n",
       "      <td>80.990667</td>\n",
       "      <td>68.309681</td>\n",
       "    </tr>\n",
       "    <tr>\n",
       "      <th>std</th>\n",
       "      <td>0.932918</td>\n",
       "      <td>12.669667</td>\n",
       "      <td>13.806141</td>\n",
       "      <td>19.345963</td>\n",
       "      <td>24.142027</td>\n",
       "      <td>18.985373</td>\n",
       "    </tr>\n",
       "    <tr>\n",
       "      <th>min</th>\n",
       "      <td>4.000000</td>\n",
       "      <td>28.140000</td>\n",
       "      <td>34.090000</td>\n",
       "      <td>28.750000</td>\n",
       "      <td>16.910000</td>\n",
       "      <td>28.060000</td>\n",
       "    </tr>\n",
       "    <tr>\n",
       "      <th>25%</th>\n",
       "      <td>7.000000</td>\n",
       "      <td>80.530000</td>\n",
       "      <td>86.660000</td>\n",
       "      <td>52.810000</td>\n",
       "      <td>71.850000</td>\n",
       "      <td>52.707500</td>\n",
       "    </tr>\n",
       "    <tr>\n",
       "      <th>50%</th>\n",
       "      <td>8.000000</td>\n",
       "      <td>89.940000</td>\n",
       "      <td>93.680000</td>\n",
       "      <td>68.750000</td>\n",
       "      <td>88.890000</td>\n",
       "      <td>65.835000</td>\n",
       "    </tr>\n",
       "    <tr>\n",
       "      <th>75%</th>\n",
       "      <td>8.000000</td>\n",
       "      <td>95.000000</td>\n",
       "      <td>100.580000</td>\n",
       "      <td>81.250000</td>\n",
       "      <td>98.747500</td>\n",
       "      <td>84.722500</td>\n",
       "    </tr>\n",
       "    <tr>\n",
       "      <th>max</th>\n",
       "      <td>8.000000</td>\n",
       "      <td>100.830000</td>\n",
       "      <td>112.580000</td>\n",
       "      <td>110.000000</td>\n",
       "      <td>108.890000</td>\n",
       "      <td>108.890000</td>\n",
       "    </tr>\n",
       "  </tbody>\n",
       "</table>\n",
       "</div>"
      ],
      "text/plain": [
       "          Prefix  Assignment    Tutorial     Midterm    TakeHome       Final\n",
       "count  99.000000   97.000000   87.000000   83.000000   90.000000   94.000000\n",
       "mean    7.313131   85.382371   90.790460   67.620723   80.990667   68.309681\n",
       "std     0.932918   12.669667   13.806141   19.345963   24.142027   18.985373\n",
       "min     4.000000   28.140000   34.090000   28.750000   16.910000   28.060000\n",
       "25%     7.000000   80.530000   86.660000   52.810000   71.850000   52.707500\n",
       "50%     8.000000   89.940000   93.680000   68.750000   88.890000   65.835000\n",
       "75%     8.000000   95.000000  100.580000   81.250000   98.747500   84.722500\n",
       "max     8.000000  100.830000  112.580000  110.000000  108.890000  108.890000"
      ]
     },
     "execution_count": 8,
     "metadata": {},
     "output_type": "execute_result"
    }
   ],
   "source": [
    "df.describe()"
   ]
  },
  {
   "cell_type": "code",
   "execution_count": 8,
   "id": "064a68cf-65f0-4bb4-b5dd-9d60c2bd766b",
   "metadata": {},
   "outputs": [],
   "source": [
    "# Q2. \n",
    "import pandas as pd\n",
    "\n",
    "def reindex_function(df):\n",
    "    df = df.reset_index(drop=True)\n",
    "    new_index = pd.RangeIndex(start=1,stop=2*len(df)+1,step=2)\n",
    "    df.index = new_index\n",
    "    return df"
   ]
  },
  {
   "cell_type": "code",
   "execution_count": 32,
   "id": "2faa8873-8bd6-4a1d-82a7-abacf5b51361",
   "metadata": {},
   "outputs": [
    {
     "name": "stdout",
     "output_type": "stream",
     "text": [
      "          A         B            C\n",
      "1    Farmer     Crops  Fertilizers\n",
      "3    Doctor  Patience     Medicine\n",
      "5  Engineer     Tools  Programming\n"
     ]
    }
   ],
   "source": [
    "df = pd.DataFrame({'A':['Farmer','Doctor','Engineer'],\n",
    "                   'B':['Crops','Patience','Tools'],\n",
    "                   'C':['Fertilizers','Medicine','Programming']})\n",
    "df_reindex = reindex_function(df)\n",
    "print(df_reindex)"
   ]
  },
  {
   "cell_type": "code",
   "execution_count": 9,
   "id": "1b5f118c-37e3-4d92-bf50-0952ccf8fddd",
   "metadata": {},
   "outputs": [],
   "source": [
    "# Q3. \n",
    "import pandas as pd\n",
    "\n",
    "def calculate_sum(df):\n",
    "    sum = 0\n",
    "    for i in df['Values']:\n",
    "        if i == 40:\n",
    "            break\n",
    "        sum += i\n",
    "    return sum"
   ]
  },
  {
   "cell_type": "code",
   "execution_count": 46,
   "id": "83f911f0-8342-4037-b334-9b61e4e9d143",
   "metadata": {},
   "outputs": [
    {
     "name": "stdout",
     "output_type": "stream",
     "text": [
      "60\n"
     ]
    }
   ],
   "source": [
    "df = pd.DataFrame({'Values':[10,20,30,40,50]})\n",
    "df_sum = calculate_sum(df)\n",
    "print(df_sum)"
   ]
  },
  {
   "cell_type": "code",
   "execution_count": 10,
   "id": "4a2e02e5-8739-4b3d-9f53-7249032e6cb4",
   "metadata": {},
   "outputs": [],
   "source": [
    "# Q4. \n",
    "import pandas as pd\n",
    "\n",
    "def new_col(df):\n",
    "    words = df['Text'].str.split()\n",
    "    word_count = [len(rows) for rows in words]\n",
    "    df['word_count'] = word_count\n",
    "    return df"
   ]
  },
  {
   "cell_type": "code",
   "execution_count": 75,
   "id": "bf34ec03-4648-4e6f-927c-01b283dd37dd",
   "metadata": {},
   "outputs": [
    {
     "name": "stdout",
     "output_type": "stream",
     "text": [
      "                    Text  word_count\n",
      "0            How are you           3\n",
      "1  I am good and awesome           5\n",
      "2         What about you           3\n"
     ]
    }
   ],
   "source": [
    "df = pd.DataFrame({'Text':['How are you','I am good and awesome','What about you']})\n",
    "df_col = new_col(df)\n",
    "print(df_col)"
   ]
  },
  {
   "cell_type": "code",
   "execution_count": null,
   "id": "a3cea21e-20a6-4b04-9916-5c514e3a00fb",
   "metadata": {},
   "outputs": [],
   "source": [
    "# Q5.\n",
    "Ans. \n",
    "DataFrame.size: It returns the total number of elements in the DataFrame. It is calculated as the product of the number\n",
    "of rows and the number of columns in the DataFrame. The size attribute returns a single integer value.\n",
    "\n",
    "DataFrame.shape: It returns a tuple representing the dimensions of the DataFrame. The tuple contains two elements: the\n",
    "number of rows and the number of columns, respectively. The shape attribute provides the shape of the DataFrame as \n",
    "(number of rows, number of columns)."
   ]
  },
  {
   "cell_type": "code",
   "execution_count": null,
   "id": "98b68866-797b-4a9e-8355-f0abe40a5dcf",
   "metadata": {},
   "outputs": [],
   "source": [
    "# Q6.\n",
    "Ans.\n",
    "In pandas we use to read an excel file that is pd.read_excel()"
   ]
  },
  {
   "cell_type": "code",
   "execution_count": 11,
   "id": "ee26fff7-c185-4ace-b577-cde0df220ef8",
   "metadata": {},
   "outputs": [
    {
     "name": "stdout",
     "output_type": "stream",
     "text": [
      "                  Email   Username\n",
      "0  john.doe@example.com   john.doe\n",
      "1   amityadav@gmail.com  amityadav\n",
      "2        ravi@gmail.com       ravi\n"
     ]
    }
   ],
   "source": [
    "# Q7. \n",
    "import pandas as pd\n",
    "\n",
    "def email_extract(df):\n",
    "    df['Username'] = df['Email'].str.split('@').str[0]\n",
    "    return df\n",
    "\n",
    "df = pd.DataFrame({'Email':['john.doe@example.com','amityadav@gmail.com','ravi@gmail.com']})\n",
    "new_username_col = email_extract(df)\n",
    "print(new_username_col)"
   ]
  },
  {
   "cell_type": "code",
   "execution_count": 12,
   "id": "7a80fe89-19f0-48a5-9823-bae437dcad36",
   "metadata": {},
   "outputs": [
    {
     "name": "stdout",
     "output_type": "stream",
     "text": [
      "   A  B  C\n",
      "1  8  2  7\n",
      "2  6  9  4\n",
      "4  9  1  2\n"
     ]
    }
   ],
   "source": [
    "#Q8. \n",
    "import pandas as pd\n",
    "\n",
    "def new_dataframe(df):\n",
    "    new_df = df[(df['A'] > 5) & (df['B'] < 10)]\n",
    "    return new_df\n",
    "\n",
    "df = pd.DataFrame({'A':[3,8,6,2,9],'B':[5,2,9,3,1],'C':[1,7,4,5,2]})\n",
    "new_df = new_dataframe(df)\n",
    "print(new_df)"
   ]
  },
  {
   "cell_type": "code",
   "execution_count": 13,
   "id": "e2414d8c-2036-4033-9ea6-e5a27b8ac921",
   "metadata": {},
   "outputs": [
    {
     "data": {
      "text/html": [
       "<div>\n",
       "<style scoped>\n",
       "    .dataframe tbody tr th:only-of-type {\n",
       "        vertical-align: middle;\n",
       "    }\n",
       "\n",
       "    .dataframe tbody tr th {\n",
       "        vertical-align: top;\n",
       "    }\n",
       "\n",
       "    .dataframe thead th {\n",
       "        text-align: right;\n",
       "    }\n",
       "</style>\n",
       "<table border=\"1\" class=\"dataframe\">\n",
       "  <thead>\n",
       "    <tr style=\"text-align: right;\">\n",
       "      <th></th>\n",
       "      <th>Values</th>\n",
       "    </tr>\n",
       "  </thead>\n",
       "  <tbody>\n",
       "    <tr>\n",
       "      <th>count</th>\n",
       "      <td>3.000000</td>\n",
       "    </tr>\n",
       "    <tr>\n",
       "      <th>mean</th>\n",
       "      <td>42.000000</td>\n",
       "    </tr>\n",
       "    <tr>\n",
       "      <th>std</th>\n",
       "      <td>22.338308</td>\n",
       "    </tr>\n",
       "    <tr>\n",
       "      <th>min</th>\n",
       "      <td>24.000000</td>\n",
       "    </tr>\n",
       "    <tr>\n",
       "      <th>25%</th>\n",
       "      <td>29.500000</td>\n",
       "    </tr>\n",
       "    <tr>\n",
       "      <th>50%</th>\n",
       "      <td>35.000000</td>\n",
       "    </tr>\n",
       "    <tr>\n",
       "      <th>75%</th>\n",
       "      <td>51.000000</td>\n",
       "    </tr>\n",
       "    <tr>\n",
       "      <th>max</th>\n",
       "      <td>67.000000</td>\n",
       "    </tr>\n",
       "  </tbody>\n",
       "</table>\n",
       "</div>"
      ],
      "text/plain": [
       "          Values\n",
       "count   3.000000\n",
       "mean   42.000000\n",
       "std    22.338308\n",
       "min    24.000000\n",
       "25%    29.500000\n",
       "50%    35.000000\n",
       "75%    51.000000\n",
       "max    67.000000"
      ]
     },
     "execution_count": 13,
     "metadata": {},
     "output_type": "execute_result"
    }
   ],
   "source": [
    "# Q9. \n",
    "Data = {'Values':[24,35,67]}\n",
    "df = pd.DataFrame(Data)\n",
    "df.describe()"
   ]
  },
  {
   "cell_type": "code",
   "execution_count": 14,
   "id": "8484fed7-2ee1-4c01-af51-d489370411c5",
   "metadata": {},
   "outputs": [
    {
     "data": {
      "text/html": [
       "<div>\n",
       "<style scoped>\n",
       "    .dataframe tbody tr th:only-of-type {\n",
       "        vertical-align: middle;\n",
       "    }\n",
       "\n",
       "    .dataframe tbody tr th {\n",
       "        vertical-align: top;\n",
       "    }\n",
       "\n",
       "    .dataframe thead th {\n",
       "        text-align: right;\n",
       "    }\n",
       "</style>\n",
       "<table border=\"1\" class=\"dataframe\">\n",
       "  <thead>\n",
       "    <tr style=\"text-align: right;\">\n",
       "      <th></th>\n",
       "      <th>date</th>\n",
       "      <th>sales</th>\n",
       "      <th>MovingAverage</th>\n",
       "    </tr>\n",
       "  </thead>\n",
       "  <tbody>\n",
       "    <tr>\n",
       "      <th>0</th>\n",
       "      <td>2022-01-01</td>\n",
       "      <td>100</td>\n",
       "      <td>100.0</td>\n",
       "    </tr>\n",
       "    <tr>\n",
       "      <th>1</th>\n",
       "      <td>2022-01-02</td>\n",
       "      <td>200</td>\n",
       "      <td>150.0</td>\n",
       "    </tr>\n",
       "    <tr>\n",
       "      <th>2</th>\n",
       "      <td>2022-01-03</td>\n",
       "      <td>300</td>\n",
       "      <td>200.0</td>\n",
       "    </tr>\n",
       "    <tr>\n",
       "      <th>3</th>\n",
       "      <td>2022-01-04</td>\n",
       "      <td>400</td>\n",
       "      <td>250.0</td>\n",
       "    </tr>\n",
       "    <tr>\n",
       "      <th>4</th>\n",
       "      <td>2022-01-05</td>\n",
       "      <td>500</td>\n",
       "      <td>300.0</td>\n",
       "    </tr>\n",
       "    <tr>\n",
       "      <th>5</th>\n",
       "      <td>2022-01-06</td>\n",
       "      <td>600</td>\n",
       "      <td>350.0</td>\n",
       "    </tr>\n",
       "    <tr>\n",
       "      <th>6</th>\n",
       "      <td>2022-01-07</td>\n",
       "      <td>700</td>\n",
       "      <td>400.0</td>\n",
       "    </tr>\n",
       "  </tbody>\n",
       "</table>\n",
       "</div>"
      ],
      "text/plain": [
       "         date  sales  MovingAverage\n",
       "0  2022-01-01    100          100.0\n",
       "1  2022-01-02    200          150.0\n",
       "2  2022-01-03    300          200.0\n",
       "3  2022-01-04    400          250.0\n",
       "4  2022-01-05    500          300.0\n",
       "5  2022-01-06    600          350.0\n",
       "6  2022-01-07    700          400.0"
      ]
     },
     "execution_count": 14,
     "metadata": {},
     "output_type": "execute_result"
    }
   ],
   "source": [
    "# Q10. \n",
    "import pandas as pd\n",
    "data1 = {'date':['2022-01-01','2022-01-02','2022-01-03','2022-01-04','2022-01-05','2022-01-06','2022-01-07'],\n",
    "         'sales':[100,200,300,400,500,600,700]}\n",
    "\n",
    "df = pd.DataFrame(data1)\n",
    "\n",
    "df['MovingAverage'] = df['sales'].rolling(window=7,min_periods=1).mean()\n",
    "df"
   ]
  },
  {
   "cell_type": "code",
   "execution_count": 15,
   "id": "ff7cf0d1-c3c6-4061-8739-a47e579774e7",
   "metadata": {},
   "outputs": [
    {
     "data": {
      "text/html": [
       "<div>\n",
       "<style scoped>\n",
       "    .dataframe tbody tr th:only-of-type {\n",
       "        vertical-align: middle;\n",
       "    }\n",
       "\n",
       "    .dataframe tbody tr th {\n",
       "        vertical-align: top;\n",
       "    }\n",
       "\n",
       "    .dataframe thead th {\n",
       "        text-align: right;\n",
       "    }\n",
       "</style>\n",
       "<table border=\"1\" class=\"dataframe\">\n",
       "  <thead>\n",
       "    <tr style=\"text-align: right;\">\n",
       "      <th></th>\n",
       "      <th>Date</th>\n",
       "      <th>Weekday</th>\n",
       "    </tr>\n",
       "  </thead>\n",
       "  <tbody>\n",
       "    <tr>\n",
       "      <th>0</th>\n",
       "      <td>2023-01-01</td>\n",
       "      <td>Sunday</td>\n",
       "    </tr>\n",
       "    <tr>\n",
       "      <th>1</th>\n",
       "      <td>2023-01-02</td>\n",
       "      <td>Monday</td>\n",
       "    </tr>\n",
       "    <tr>\n",
       "      <th>2</th>\n",
       "      <td>2023-01-03</td>\n",
       "      <td>Tuesday</td>\n",
       "    </tr>\n",
       "    <tr>\n",
       "      <th>3</th>\n",
       "      <td>2023-01-04</td>\n",
       "      <td>Wednesday</td>\n",
       "    </tr>\n",
       "    <tr>\n",
       "      <th>4</th>\n",
       "      <td>2023-01-05</td>\n",
       "      <td>Thursday</td>\n",
       "    </tr>\n",
       "  </tbody>\n",
       "</table>\n",
       "</div>"
      ],
      "text/plain": [
       "        Date    Weekday\n",
       "0 2023-01-01     Sunday\n",
       "1 2023-01-02     Monday\n",
       "2 2023-01-03    Tuesday\n",
       "3 2023-01-04  Wednesday\n",
       "4 2023-01-05   Thursday"
      ]
     },
     "execution_count": 15,
     "metadata": {},
     "output_type": "execute_result"
    }
   ],
   "source": [
    "# Q11. \n",
    "import pandas as pd\n",
    "\n",
    "Data = {'Date':['2023-01-01','2023-01-02','2023-01-03','2023-01-04','2023-01-05']}\n",
    "df = pd.DataFrame(Data)\n",
    "\n",
    "df['Date'] = pd.to_datetime(df['Date'])\n",
    "df['Weekday'] = df['Date'].dt.strftime('%A')\n",
    "df"
   ]
  },
  {
   "cell_type": "code",
   "execution_count": 16,
   "id": "b7782ad0-edf8-4e8e-986a-7845cda7a34f",
   "metadata": {},
   "outputs": [
    {
     "data": {
      "text/html": [
       "<div>\n",
       "<style scoped>\n",
       "    .dataframe tbody tr th:only-of-type {\n",
       "        vertical-align: middle;\n",
       "    }\n",
       "\n",
       "    .dataframe tbody tr th {\n",
       "        vertical-align: top;\n",
       "    }\n",
       "\n",
       "    .dataframe thead th {\n",
       "        text-align: right;\n",
       "    }\n",
       "</style>\n",
       "<table border=\"1\" class=\"dataframe\">\n",
       "  <thead>\n",
       "    <tr style=\"text-align: right;\">\n",
       "      <th></th>\n",
       "      <th>Date</th>\n",
       "    </tr>\n",
       "  </thead>\n",
       "  <tbody>\n",
       "    <tr>\n",
       "      <th>0</th>\n",
       "      <td>2023-01-01</td>\n",
       "    </tr>\n",
       "    <tr>\n",
       "      <th>1</th>\n",
       "      <td>2023-01-15</td>\n",
       "    </tr>\n",
       "    <tr>\n",
       "      <th>3</th>\n",
       "      <td>2023-01-31</td>\n",
       "    </tr>\n",
       "  </tbody>\n",
       "</table>\n",
       "</div>"
      ],
      "text/plain": [
       "        Date\n",
       "0 2023-01-01\n",
       "1 2023-01-15\n",
       "3 2023-01-31"
      ]
     },
     "execution_count": 16,
     "metadata": {},
     "output_type": "execute_result"
    }
   ],
   "source": [
    "# Q12. \n",
    "import pandas as pd\n",
    "data = {'Date':['2023-01-01','2023-01-15','2023-02-05','2023-01-31' ]}\n",
    "\n",
    "df = pd.DataFrame(data)\n",
    "df['Date'] = pd.to_datetime(df['Date'])\n",
    "start_date = pd.to_datetime('2023-01-01')\n",
    "end_date = pd.to_datetime('2023-01-31')\n",
    "\n",
    "df = df[(df['Date'] >= start_date) & (df['Date'] <= end_date)]\n",
    "df"
   ]
  },
  {
   "cell_type": "code",
   "execution_count": null,
   "id": "26a8027d-ccba-462d-a1b6-baf867b95050",
   "metadata": {},
   "outputs": [],
   "source": [
    "# Q13. \n",
    "Ans. \n",
    "The first and foremost necessary library that needs to be imported for basic function of pandas itself.\n",
    "for example:\n",
    "import pandas as pd"
   ]
  }
 ],
 "metadata": {
  "kernelspec": {
   "display_name": "Python 3 (ipykernel)",
   "language": "python",
   "name": "python3"
  },
  "language_info": {
   "codemirror_mode": {
    "name": "ipython",
    "version": 3
   },
   "file_extension": ".py",
   "mimetype": "text/x-python",
   "name": "python",
   "nbconvert_exporter": "python",
   "pygments_lexer": "ipython3",
   "version": "3.10.8"
  }
 },
 "nbformat": 4,
 "nbformat_minor": 5
}
